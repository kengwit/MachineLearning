{
 "cells": [
  {
   "cell_type": "markdown",
   "metadata": {},
   "source": [
    "# 4.1 Introduction\n",
    "\n",
    "- Our predictor G(x) takes values in a discrete set $\\mathcal{G}$.\n",
    "\n",
    "- We can divide the input space into regions labeled according to the classification.\n",
    "\n",
    "- Decision boundaries of regions are linear; this is what we'll mean by *linear methods for classification*.\n",
    "\n",
    "Suppose there are K classes and the fitted linear model: $\\hat{f}_k(x)=\\hat{\\beta}_{k0} + \\hat{\\beta}_k^Tx$; then the decision boundary between class *k* and *l* is $\\hat{f}_k(x)=\\hat{f}_l(x)$ that is  $\\{ x : (\\hat{\\beta}_{k0}-\\hat{\\beta}_{l0}) + (\\hat{\\beta}_{k}-\\hat{\\beta}_{l})^Tx = 0 \\}$. This regression approach is a member of a class of methods that model *discriminant functions $\\delta_k(x)$* for each class, and then classify x to the class with the largest value for its discriminant function. Methods that model the posterior probabilities Pr(G = k | X = x) are also in this class. Clearly, if either the $\\delta_k(x)$ or Pr(G = k| X = x) are linear in x, then the decision boundaries will be linear."
   ]
  },
  {
   "cell_type": "markdown",
   "metadata": {},
   "source": [
    "For example, a popular model for the posterior probabilities for two classes are (4.1):\n",
    "\n",
    "$$\n",
    "\\begin{equation}\n",
    "Pr(G = 1|X=x)=\\cfrac{exp(\\beta_0 + \\beta^Tx)}{1+exp(\\beta_0 + \\beta^Tx)}\\\\\n",
    "Pr(G = 2|X=x)=\\cfrac{1}{1+exp(\\beta_0 + \\beta^Tx)}\n",
    "\\end{equation}\n",
    "$$\n",
    "\n",
    "Here the monotone transformation is the *logit* (or *log-odds*) transformation: log[p/(1-p)], in fact (4.2):\n",
    "\n",
    "$$\n",
    "log \\frac{Pr(G = 1|X=x)}{Pr(G = 2|X=x)} = \\beta_0 + \\beta^Tx\n",
    "$$\n",
    "\n",
    "The decision boundary defined by $\\{x : \\beta_0 + \\beta^Tx = 0\\}$\n"
   ]
  }
 ],
 "metadata": {
  "kernelspec": {
   "display_name": "Python 3",
   "language": "python",
   "name": "python3"
  },
  "language_info": {
   "codemirror_mode": {
    "name": "ipython",
    "version": 3
   },
   "file_extension": ".py",
   "mimetype": "text/x-python",
   "name": "python",
   "nbconvert_exporter": "python",
   "pygments_lexer": "ipython3",
   "version": "3.6.5"
  }
 },
 "nbformat": 4,
 "nbformat_minor": 2
}
