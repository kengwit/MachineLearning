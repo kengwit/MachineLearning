{
 "cells": [
  {
   "cell_type": "markdown",
   "metadata": {},
   "source": [
    "# 4.3.1 Regularized Discriminant Analysis"
   ]
  },
  {
   "cell_type": "markdown",
   "metadata": {},
   "source": [
    "The regularized covariance matrices have the form (4.13):\n",
    "$$\n",
    "\\hat{\\Sigma}_k(\\alpha)=\\alpha \\hat{\\Sigma}_k + (1 - \\alpha)\\hat{\\Sigma}\n",
    "$$\n",
    "\n",
    "Here $\\alpha \\in [0, 1]$ allows a continuum of models between LDA and QDA.\n",
    "\n",
    "Similar modifications allow $\\hat{\\Sigma}$ itself to be shrunk toward the scalar covariance (4.14),\n",
    "$$\n",
    "\\hat{\\Sigma}(\\gamma)=\\gamma\\hat{\\Sigma}+(1-\\gamma)\\hat{\\sigma}^2\\mathbf{I}\n",
    "$$\n",
    "\n",
    "for $\\gamma \\in [0, 1]$. Replacing $\\hat{\\Sigma}$ in (4.13) by $\\hat{\\Sigma}(\\gamma)$ leads to a more general family of covariances $\\hat{\\Sigma}(\\alpha, \\gamma)$."
   ]
  }
 ],
 "metadata": {
  "kernelspec": {
   "display_name": "Python 3",
   "language": "python",
   "name": "python3"
  },
  "language_info": {
   "codemirror_mode": {
    "name": "ipython",
    "version": 3
   },
   "file_extension": ".py",
   "mimetype": "text/x-python",
   "name": "python",
   "nbconvert_exporter": "python",
   "pygments_lexer": "ipython3",
   "version": "3.6.5"
  }
 },
 "nbformat": 4,
 "nbformat_minor": 2
}
