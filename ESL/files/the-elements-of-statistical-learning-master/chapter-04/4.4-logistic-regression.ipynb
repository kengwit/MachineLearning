{
 "cells": [
  {
   "cell_type": "markdown",
   "metadata": {},
   "source": [
    "# 4.4 Logistic Regression\n",
    "\n",
    "The model has the form (4.17):\n",
    "$$\n",
    "\\begin{equation}\n",
    "\\log \\cfrac{Pr(G = 1 | X = x)}{Pr(G = k | X =x)} = \\beta_{10} + \\beta_1^Tx\\\\\n",
    "\\log \\cfrac{Pr(G = 2 | X = x)}{Pr(G = k | X =x)} = \\beta_{20} + \\beta_2^Tx\\\\\n",
    "\\vdots\\\\\n",
    "\\log \\cfrac{Pr(G = K-1 | X = x)}{Pr(G = k | X =x)} = \\beta_{(K-1)0} + \\beta_{K-1}^Tx\\\\\n",
    "\\end{equation}\n",
    "$$\n",
    "\n",
    "The model is specified in terms of K - 1 log-odds or logit transformations. A simple calculation shows that (4.18):\n",
    "$$\n",
    "\\begin{equation}\n",
    "Pr(G=k|X=x) = \\cfrac{exp(\\beta_{k0} + \\beta_k^Tx)}{1+\\sum_{l=1}^{K-1}exp(\\beta_{l0} + \\beta_l^Tx)},\n",
    "k = 1,...,K - 1,\\\\\n",
    "Pr(G=K|X=x) = \\cfrac{1}{1+\\sum_{l=1}^{K-1}exp(\\beta_{l0} + \\beta_l^Tx)}\n",
    "\\end{equation}\n",
    "$$\n",
    "\n",
    "and they clearly sum to one."
   ]
  }
 ],
 "metadata": {
  "kernelspec": {
   "display_name": "Python 3",
   "language": "python",
   "name": "python3"
  },
  "language_info": {
   "codemirror_mode": {
    "name": "ipython",
    "version": 3
   },
   "file_extension": ".py",
   "mimetype": "text/x-python",
   "name": "python",
   "nbconvert_exporter": "python",
   "pygments_lexer": "ipython3",
   "version": "3.6.5"
  }
 },
 "nbformat": 4,
 "nbformat_minor": 2
}
