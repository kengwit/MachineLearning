{
 "cells": [
  {
   "cell_type": "markdown",
   "metadata": {},
   "source": [
    "# 4.3.2 Computations for LDA"
   ]
  },
  {
   "cell_type": "markdown",
   "metadata": {},
   "source": [
    "Suppose we compute the eigen-decomposition for each $\\hat{\\Sigma}_k=\\mathbf{U}_k\\mathbf{D}_k\\mathbf{U}_k^T$, then ingredients for $\\delta_k(x)$ is:\n",
    "\n",
    "- $(x-\\hat{\\mu}_k)^T\\hat{\\Sigma}_k^{-1}(x - \\hat{\\mu}_k)=\\left[\\mathbf{U}_k^T (x - \\hat{\\mu}_k)\\right]^T\n",
    "\\mathbf{D}_k^{-1}\n",
    "\\left[\\mathbf{U}_k^T(x-\\hat{\\mu}_k)\\right]\n",
    "$\n",
    "\n",
    "- $\\log |\\hat{\\Sigma}_k|=\\Sigma_l \\log d_{kl}$\n",
    "\n",
    "the LDA classifier can be implemented by the following steps:\n",
    "\n",
    "- Sphere the data w.r.t the covariance estimate $\\hat{\\Sigma}: X^{*}=\\mathbf{D}^{-1/2}\\mathbf{U}^TX$\n",
    "\n",
    "- Classify to the closest class centroid in the transformed space, modulo the effect of the class prior probabilities $\\pi_k$."
   ]
  }
 ],
 "metadata": {
  "kernelspec": {
   "display_name": "Python 3",
   "language": "python",
   "name": "python3"
  },
  "language_info": {
   "codemirror_mode": {
    "name": "ipython",
    "version": 3
   },
   "file_extension": ".py",
   "mimetype": "text/x-python",
   "name": "python",
   "nbconvert_exporter": "python",
   "pygments_lexer": "ipython3",
   "version": "3.6.5"
  }
 },
 "nbformat": 4,
 "nbformat_minor": 2
}
