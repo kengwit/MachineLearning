{
 "cells": [
  {
   "cell_type": "markdown",
   "metadata": {},
   "source": [
    "# 3.5 Methods Using Derived Input Directions\n",
    "\n",
    "In many situations, we have a large number of inputs, ofter very correlated. This methods in this section produce a small number of linear combinations **Z** of the original inputs **X**."
   ]
  },
  {
   "cell_type": "markdown",
   "metadata": {},
   "source": [
    "### 3.5.1 Principal Components Regression\n",
    "\n",
    "Princinal component regression (PCR) forms the derived input columns $z_m=\\mathbf{X}v_m$ and then regresses $\\mathbf{y} \\text{ on } \\mathbf{z}_1,...,\\mathbf{z}_M$ for some M <= p. Since the **Z** are orthogonal (3.61): \n",
    "$$\n",
    "\\hat{\\mathbf{y}}_{(M)}^{pcr} = \\overline{y}\\mathbf{1} + \\sum_{m=1}^M \\hat{\\theta}_m\\mathbf{z}_m\n",
    "$$\n",
    "\n",
    "where $\\hat{\\theta}_m = \\langle \\mathbf{z}_m, \\mathbf{y} \\rangle / \\langle \\mathbf{z}_m, \\mathbf{z}_m\\rangle$. Since the $\\mathbf{z}_m$ are linear combinations of the original $\\mathbf{x}_j$, we can express in terms of coefficients of the $\\mathbf{x}_j$ (3.62):\n",
    "\n",
    "$$\n",
    "\\hat{\\beta}^{pcr}(M) = \\sum_{m=1}^M \\hat{\\theta}_m v_m\n",
    "$$\n",
    "\n",
    "**TODO**: proof\n",
    "\n",
    "- we first standardize the inputs.\n",
    "\n",
    "- Note that if M = p, we would get least squares estimates, since **Z**=**UD** span the column space of **X**.\n",
    "\n",
    "- PCR is very similar to ridge regression."
   ]
  },
  {
   "cell_type": "markdown",
   "metadata": {},
   "source": [
    "# 3.5.2 Partial Least Squares\n",
    "\n",
    "- Partial Least Squares (PLS) begins by computing $\\hat{\\varphi}_{1j} = \\langle \\mathbf{x}_j, \\mathbf{y} \\rangle$ for each j. \n",
    "\n",
    "- Then we construct the derived input $\\mathbf{z}_1=\\sum_j \\hat{\\varphi}_{1j} \\mathbf{x}_j$, which the 1st partial least squares direction.\n",
    "\n",
    "- The outcome $\\mathbf{y}$ is regressed on $\\mathbf{z}_1$ giving coefficient $\\hat{\\theta}_1$\n",
    "\n",
    "- And then we orthogonalize $\\mathbf{x}_1,..., \\mathbf{x}_p$ w.r.t $\\mathbf{z}_1$.\n",
    "\n",
    "- We continue this process until M <= p directions have been obtained.\n",
    "\n",
    "Note: PLS produces orthogonal inputs(or directions) $\\mathbf{z}_1,...,\\mathbf{z}_M$ and if M = p, we would get least squares estimates."
   ]
  },
  {
   "cell_type": "code",
   "execution_count": 6,
   "metadata": {},
   "outputs": [],
   "source": [
    "# Algorithm 3.3 Partial Least Squares.\n",
    "import numpy as np\n",
    "import pandas as pd\n",
    "from scipy import stats\n",
    "\n",
    "df = pd.read_csv('../data/prostate/prostate.data', delimiter='\\t', index_col=0)\n",
    "mask_train = df.pop('train')\n",
    "df_y = df.pop('lpsa')\n",
    "\n",
    "train_x = df[mask_train == 'T']\n",
    "train_y = df_y[mask_train == 'T']\n",
    "\n",
    "train_x_centered = train_x - train_x.mean(axis = 0)\n",
    "train_x_centered /= np.linalg.norm(train_x_centered, axis=0)\n",
    "train_y_centered = train_y - train_y.mean()"
   ]
  },
  {
   "cell_type": "code",
   "execution_count": 7,
   "metadata": {},
   "outputs": [],
   "source": [
    "def PLS(X, y):\n",
    "    X = X.copy()\n",
    "    y = y.copy()\n",
    "\n",
    "    n, p = X.shape\n",
    "    y_fit = y.mean() * np.ones(n)\n",
    "    Z = np.zeros_like(X)\n",
    "    theta = np.zeros(p)\n",
    "    \n",
    "    for m in range(p):\n",
    "        for j in range(p):\n",
    "            phi = np.dot(X[:, j], y)\n",
    "            Z[:, m] += phi * X[:, j]\n",
    "\n",
    "        theta[m] = np.dot(Z[:, m], y) / np.dot(Z[:, m], Z[:, m])\n",
    "        y_fit += theta[m] * Z[:, m]\n",
    "        \n",
    "        for j in range(p):\n",
    "            X[:, j] -= np.dot(Z[:, m], X[:, j]) / np.dot(Z[:, m], Z[:, m]) * Z[:, m]\n",
    "    return y_fit"
   ]
  },
  {
   "cell_type": "code",
   "execution_count": 8,
   "metadata": {},
   "outputs": [
    {
     "name": "stdout",
     "output_type": "stream",
     "text": [
      "Train error:  0.43919976805833433\n"
     ]
    }
   ],
   "source": [
    "y_fit = PLS(train_x_centered.values, train_y_centered.values)\n",
    "train_error = np.mean((y_fit - train_y_centered) ** 2)\n",
    "print('Train error: ', train_error)"
   ]
  },
  {
   "cell_type": "markdown",
   "metadata": {},
   "source": [
    "It can be shown that PLS seeks directions that have high variance and have high correlation with the response.\n",
    "The mth PLS direction $\\hat{\\varphi}_m$ solves:\n",
    "\n",
    "$$\n",
    "\\begin{equation}\n",
    "max_\\alpha Corr^2(\\mathbf{y}, \\mathbf{X}\\alpha)Var(\\mathbf{X}\\alpha)\\\\\n",
    "\\text{ subject to } \\| \\alpha \\| = 1, \\alpha^T\\mathbf{S}v_l = 0, l = 1, ..., m - 1\n",
    "\\end{equation}\n",
    "$$"
   ]
  }
 ],
 "metadata": {
  "kernelspec": {
   "display_name": "Python 3",
   "language": "python",
   "name": "python3"
  },
  "language_info": {
   "codemirror_mode": {
    "name": "ipython",
    "version": 3
   },
   "file_extension": ".py",
   "mimetype": "text/x-python",
   "name": "python",
   "nbconvert_exporter": "python",
   "pygments_lexer": "ipython3",
   "version": "3.6.5"
  }
 },
 "nbformat": 4,
 "nbformat_minor": 2
}
