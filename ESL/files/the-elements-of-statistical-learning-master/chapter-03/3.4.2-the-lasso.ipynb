{
 "cells": [
  {
   "cell_type": "markdown",
   "metadata": {},
   "source": [
    "# 3.4.2 The Lasso"
   ]
  },
  {
   "cell_type": "markdown",
   "metadata": {},
   "source": [
    "The lasso is a shrinkage method, which is estimated by (3.51):\n",
    "$$\n",
    "\\begin{equation}\n",
    "\\hat{\\beta}^{lasso} = \\underset{\\beta}{argmin}\\sum_{i=1}^N \\left( y_i-\\beta_0-\\sum_{j=1}^p{x_{ij}\\beta_j} \\right)^2\\\\\n",
    "\\text{ subject to } \\sum_{j=1}^p|\\beta_j| \\le t\n",
    "\\end{equation}\n",
    "$$\n",
    "\n",
    "we can re-parametrize the constant $\\beta_0$ by standartizing the predictors; the solution for $\\beta_0$ is $\\overline{y}$."
   ]
  },
  {
   "cell_type": "markdown",
   "metadata": {},
   "source": [
    "We can also write the lasso in the equivalent *Lagragngian form* (3.52):\n",
    "    \n",
    "$$\\hat{\\beta}^{lasso} = \\underset{\\beta}{argmin} \\left\\{\n",
    "\\frac{1}{2}\\sum_{i=1}^N \\left( y_i-\\beta_0-\\sum_{j=1}^p{x_{ij}\\beta_j} \\right)^2\n",
    "+\\lambda\\sum_{j=1}^p|\\beta_j|\n",
    "\\right\\}$$\n",
    "\n",
    "The lasso solution is nonlinear in the $y_i$ and it is a quadratic programming problem."
   ]
  }
 ],
 "metadata": {
  "kernelspec": {
   "display_name": "Python 3",
   "language": "python",
   "name": "python3"
  },
  "language_info": {
   "codemirror_mode": {
    "name": "ipython",
    "version": 3
   },
   "file_extension": ".py",
   "mimetype": "text/x-python",
   "name": "python",
   "nbconvert_exporter": "python",
   "pygments_lexer": "ipython3",
   "version": "3.6.5"
  }
 },
 "nbformat": 4,
 "nbformat_minor": 2
}
