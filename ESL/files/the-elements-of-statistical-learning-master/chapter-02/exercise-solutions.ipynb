{
 "cells": [
  {
   "cell_type": "markdown",
   "metadata": {},
   "source": [
    "### Ex. 2.8 \n",
    "Compare the classification performance of linear regression and k–\n",
    "nearest neighbor classification on the zipcode data. In particular, consider\n",
    "only the 2’s and 3’s, and k = 1, 3, 5, 7 and 15. Show both the training and\n",
    "test error for each choice. The zipcode data are available from the book\n",
    "website www-stat.stanford.edu/ElemStatLearn."
   ]
  },
  {
   "cell_type": "code",
   "execution_count": 1,
   "metadata": {},
   "outputs": [
    {
     "data": {
      "image/png": "[encoded data removed]",
      "text/plain": [
       "<Figure size 576x576 with 1 Axes>"
      ]
     },
     "metadata": {},
     "output_type": "display_data"
    }
   ],
   "source": [
    "%matplotlib inline\n",
    "import numpy as np\n",
    "import matplotlib.pyplot as plt\n",
    "\n",
    "def filtered_data(path):\n",
    "    data_all = np.loadtxt(path)\n",
    "    mask = np.in1d(data_all[:, 0], (2, 3))\n",
    "    data_x = data_all[mask, 1: ]\n",
    "    data_y = data_all[mask, 0]\n",
    "    return data_x, data_y\n",
    "\n",
    "train_x, train_y = filtered_data('../data/zipcode/zip.train')\n",
    "test_x, test_y = filtered_data('../data/zipcode/zip.test')\n",
    "k_list = [1, 3, 5, 7, 15]\n",
    "\n",
    "def knn_error(k, x, y, data_x, data_y):\n",
    "    distances = ((data_x - x)**2).sum(axis=1)\n",
    "    return (np.mean(data_y[distances.argpartition(k)[:k]]) - y) ** 2\n",
    "\n",
    "def std(squared_errors):\n",
    "    \"\"\"standard deviation of the given squared errors.\"\"\"\n",
    "    return np.sqrt(np.mean(squared_errors))\n",
    "\n",
    "def knn_stds():\n",
    "    train_stds = []\n",
    "    test_stds = []\n",
    "    for k in k_list:\n",
    "        train_errors = [knn_error(k, x, y, train_x, train_y)\n",
    "                        for (x, y) in zip(train_x, train_y)]\n",
    "        train_stds.append(std(train_errors))\n",
    "        test_errors = [knn_error(k, x, y, train_x, train_y)\n",
    "                        for (x, y) in zip(test_x, test_y)]\n",
    "        test_stds.append(std(test_errors))\n",
    "    return train_stds, test_stds\n",
    "\n",
    "def least_square_stds():\n",
    "    X = np.c_[np.ones((len(train_x), 1)), train_x]\n",
    "    beta = np.linalg.lstsq(X, train_y, rcond = None)[0]\n",
    "    error = lambda x, y: (np.dot(np.array([1, *x]), beta) - y) ** 2\n",
    "\n",
    "    train_stds = []\n",
    "    test_stds = []\n",
    "\n",
    "    for k in k_list:\n",
    "        train_errors = [error(x, y) for (x, y) in zip(train_x, train_y)]\n",
    "        train_stds.append(std(train_errors))\n",
    "        test_errors = [error(x, y) for (x, y) in zip(test_x, test_y)]\n",
    "        test_stds.append(std(test_errors))\n",
    "\n",
    "    return train_stds, test_stds\n",
    "\n",
    "fig = plt.figure(figsize = (8, 8))\n",
    "axes = fig.add_subplot(1, 1, 1)\n",
    "\n",
    "# kNN plotting\n",
    "train_stds, test_stds = knn_stds()\n",
    "axes.plot(k_list, train_stds, '-', \n",
    "          color = 'C0', label = 'knn-train')\n",
    "axes.plot(k_list, test_stds, '-', \n",
    "          color = 'C1', label = 'knn-test')\n",
    "\n",
    "# least square plotting\n",
    "train_stds, test_stds = least_square_stds()\n",
    "axes.plot(k_list, train_stds, '-', \n",
    "          color = 'C2', label = 'least-square-train')\n",
    "axes.plot(k_list, test_stds, '-', \n",
    "          color = 'C3', label = 'least-square-test')\n",
    "\n",
    "axes.legend()\n",
    "axes.set_xlabel(\"k\")\n",
    "axes.set_ylabel(\"Error\")\n",
    "plt.show()"
   ]
  }
 ],
 "metadata": {
  "kernelspec": {
   "display_name": "Python 3",
   "language": "python",
   "name": "python3"
  },
  "language_info": {
   "codemirror_mode": {
    "name": "ipython",
    "version": 3
   },
   "file_extension": ".py",
   "mimetype": "text/x-python",
   "name": "python",
   "nbconvert_exporter": "python",
   "pygments_lexer": "ipython3",
   "version": "3.6.5"
  }
 },
 "nbformat": 4,
 "nbformat_minor": 2
}
