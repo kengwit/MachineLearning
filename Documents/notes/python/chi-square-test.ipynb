{
 "cells": [
  {
   "cell_type": "markdown",
   "metadata": {},
   "source": [
    "# Chi-Squared Test\n",
    "\n",
    "Here, we generate samples of the chi-squared test statistic using i.i.d standard normal variates.\n",
    "\n",
    "Based on the demonstration in an online forum [[link](https://stats.stackexchange.com/questions/16921/how-to-understand-degrees-of-freedom)]\n"
   ]
  },
  {
   "cell_type": "code",
   "execution_count": 1,
   "metadata": {
    "collapsed": true
   },
   "outputs": [],
   "source": [
    "%matplotlib inline\n",
    "%load_ext cython\n",
    "\n",
    "# Import requisite modules\n",
    "import numpy as np\n",
    "import matplotlib.pyplot as plt\n",
    "from scipy.stats import norm, chi2\n",
    "from scipy.optimize import minimize\n"
   ]
  },
  {
   "cell_type": "code",
   "execution_count": 2,
   "metadata": {
    "collapsed": true
   },
   "outputs": [],
   "source": [
    "# Run parameters\n",
    "seed = 22\n",
    "numVariates = 20 # Number of i.i.d normal variates per repetition for the Chi-squared test\n",
    "numRepetitions = 10000 # Number of repetitions of bin counts for the Chi-squared test\n",
    "\n",
    "quantiles = [0.0, 0.25, 0.5, 0.75, 1.0] # Quantiles for binning the simulated data"
   ]
  },
  {
   "cell_type": "code",
   "execution_count": 3,
   "metadata": {
    "collapsed": true
   },
   "outputs": [],
   "source": [
    "# Intermediate quantities\n",
    "bins = [norm.ppf(b) for b in quantiles]\n",
    "numBins = len(np.diff(quantiles))\n"
   ]
  },
  {
   "cell_type": "code",
   "execution_count": 4,
   "metadata": {
    "collapsed": true
   },
   "outputs": [],
   "source": [
    "# Simulations\n",
    "np.random.seed(seed) # Make simulation repeatable with seed parameter\n",
    "data = np.random.normal(size=(numRepetitions, numVariates)) # Generate numRepetitions x numVariates i.i.d standard normals\n"
   ]
  },
  {
   "cell_type": "code",
   "execution_count": 5,
   "metadata": {
    "collapsed": true
   },
   "outputs": [],
   "source": [
    "#%%cython -a\n",
    "#import numpy as np\n",
    "\n",
    "# This function returns an array, with each entry being the chi-squared statistic computed for the \n",
    "def ComputeChiSquaredStatisicsNaive(data, bins):\n",
    "    \n",
    "    means = np.mean(data, axis=1) # For each repetition, determine the arithmetic mean of the variates\n",
    "    stdvs = np.std(data, axis=1)  # For each repetition, determine the standard deviation of the variates\n",
    "    \n",
    "    # For each repetition, determine the expected count in each bin, according to the computed means and stdvs\n",
    "    expected = np.diff(np.array([norm.cdf(b, loc=means, scale=stdvs) for b in bins]), axis=0).T * numVariates\n",
    "\n",
    "    # For each repetition, determine the observed count in each bin from the simulation data\n",
    "    observed = np.array([np.histogram(data[i], bins=bins)[0] for i in range(numRepetitions)])\n",
    "    \n",
    "    # For each repetition, compute the chi-squared statistic\n",
    "    output = np.sum((observed - expected) ** 2 / expected, axis=1)\n",
    "    \n",
    "    return output\n",
    "            \n"
   ]
  },
  {
   "cell_type": "markdown",
   "metadata": {},
   "source": [
    "## Likelihood function for counts\n",
    "\n",
    "The distribution of interest is the **normal** distribution:\n",
    "$$X = \\mathcal{N}(z|\\mu, \\sigma)$$\n",
    "\n",
    "In our case, we have the four quartile intervals for the standard normal, $I_1=(-\\infty, -0.67]$, $I_2=(-0.67, 0]$, $I_3=(0, +0.67]$ and $I_4=(+0.67, +\\infty)$. With $\n",
    "\\theta=[\\mu,\\sigma]$, the probabilities in each case are $q_1(\\theta) = \\Phi\\left( \\dfrac{-0.67-\\mu}{\\sigma} \\right)$, $q_2(\\theta)=\\Phi\\left( \\dfrac{0-\\mu}{\\sigma} \\right)-\\Phi\\left( \\dfrac{-0.67-\\mu}{\\sigma} \\right)$, $q_3(\\theta)=\\Phi\\left(\\dfrac{+0.67-\\mu}{\\sigma} \\right)-\\Phi\\left(\\dfrac{0.0-\\mu}{\\sigma} \\right)$ and $q_4(\\theta)=1.0 - \\Phi\\left( \\dfrac{+0.67-\\mu}{\\sigma} \\right)$.\n",
    "\n",
    "A single sample from $X$ falling into one of the four interval bins is a **categorical** random variable with probability $q_j$ for the $j^{th}$ category, $j \\in 1,2,3,4$.\n",
    "\n",
    "The distribution for $N$ samples is the distribution of a **sum** of $N$ i.i.d categorical variables. This is a **multinomial** distribution with parameters $N$ and $q_j, j \\in 1,\\ldots,4$. The likelihood function is then:\n",
    "\n",
    "$$L(\\mu, \\sigma) = p\\left([c_1,c_2,c_3,c_4]|N,\\mu,\\sigma\\right)=\\dfrac{n!}{c_1!c_2!c_3!c_4!} \\prod_{j=1}^4 q_j(\\mu, \\sigma)^{x_j}$$\n",
    "\n",
    "For convenience, we write the log-likelihood as:\n",
    "$$f(\\theta)\\equiv f(\\mu,\\sigma) = \\ln L(\\mu, \\sigma)=\\text{constant} + \\sum_{j=1}^4 c_j \\ln q_j(\\mu, \\sigma)$$\n",
    "\n",
    "The maximum likelihood, or **MLE**, parameters are given by:\n",
    "$$\\hat{\\theta} = [\\hat{\\mu}, \\hat{\\sigma}] = \\arg \\max_{\\theta} f(\\theta)$$\n",
    "This optimization may be carried out numerically."
   ]
  },
  {
   "cell_type": "code",
   "execution_count": 6,
   "metadata": {
    "collapsed": true
   },
   "outputs": [],
   "source": [
    "# Define the relevant portion of the multinomial log-likelihood objective function\n",
    "\n",
    "def MLEObjective(theta, counts):\n",
    "    mu = theta[0]\n",
    "    sd = theta[1]\n",
    "    \n",
    "    controlPoints = norm.cdf(bins, loc=mu, scale=sd) # CDF values at bin edges\n",
    "    \n",
    "    #print('bins=', end=''); print(bins) # DEBUG\n",
    "    #print('controlPoints='); print(controlPoints) # DEBUG\n",
    "    \n",
    "    q = np.diff(controlPoints) # Probabilities of falling in each interval\n",
    "    logq = np.log(q)\n",
    "    \n",
    "    #print('q=', end=''); print(q) # DEBUG\n",
    "    #print('counts=', end=''); print(counts) # DEBUG\n",
    "    \n",
    "    val = -np.dot(logq, counts) # Portion of the log-likelihood that depends on parameters (negative for minimization)\n",
    "    return val\n",
    "    \n",
    "def ComputeChiSquaredStatisticsMLE(data, bins):\n",
    "    \n",
    "    means = np.mean(data, axis=1) # For each repetition, determine the arithmetic mean of the variates\n",
    "    stdvs = np.std(data, axis=1)  # For each repetition, determine the standard deviation of the variates\n",
    "\n",
    "    # For each repetition, determine the observed count in each bin from the simulation data\n",
    "    observed = np.array([np.histogram(data[i], bins=bins)[0] for i in range(numRepetitions)])\n",
    "    \n",
    "    # For each repetition, determine the expected count in each bin, according to the MLE parameters\n",
    "    expected = np.zeros((numRepetitions, numBins))\n",
    "    for i in range(numRepetitions):\n",
    "        # Set up and solve for MLE parameters\n",
    "        theta0 = np.array([0.0, 1.0]) # Initialize at standard normal params\n",
    "        counts = observed[i]\n",
    "        opt = minimize(MLEObjective, args=(counts), x0=theta0, bounds=[(None, None), (0.0, None)])\n",
    "        thetaHat = opt.x\n",
    "        muHat = thetaHat[0]\n",
    "        sdHat = thetaHat[1]\n",
    "        \n",
    "        # print('In MLE function repetition {:5d}: muhat = {:+.7f}, sigmahat = {:+.7f}'.format(i, muHat, sdHat)) # DEBUG\n",
    "        \n",
    "        expected[i] = np.diff(np.array([norm.cdf(b, loc=muHat, scale=sdHat) for b in bins]), axis=0).T * numVariates\n",
    "    \n",
    "    # For each repetition, compute the chi-squared statistic\n",
    "    output = np.sum((observed - expected) ** 2 / expected, axis=1)\n",
    "    \n",
    "    return output    \n",
    "    \n",
    "\n",
    "\n",
    "    "
   ]
  },
  {
   "cell_type": "code",
   "execution_count": null,
   "metadata": {},
   "outputs": [],
   "source": [
    "# Results of the chi-squared test based on simulations\n",
    "chiSquaredResultsNaive = ComputeChiSquaredStatisicsNaive(data, bins)\n",
    "chiSquaredResultsMLE = ComputeChiSquaredStatisticsMLE(data, bins)\n",
    "\n",
    "# Overlay plots with theoretical PDFs for X^2(1) and X^2(2) plots\n",
    "chiSquaredX = np.linspace(0.0, 20.0, 1000)\n",
    "chiSquared1 = chi2.pdf(chiSquaredX, 1)\n",
    "chiSquared2 = chi2.pdf(chiSquaredX, 2)"
   ]
  },
  {
   "cell_type": "code",
   "execution_count": 8,
   "metadata": {},
   "outputs": [
    {
     "data": {
      "text/plain": [
       "<matplotlib.legend.Legend at 0x206b9313d68>"
      ]
     },
     "execution_count": 8,
     "metadata": {},
     "output_type": "execute_result"
    },
    {
     "data": {
      "image/png": "[encoded data removed]",
      "text/plain": [
       "<Figure size 432x288 with 1 Axes>"
      ]
     },
     "metadata": {},
     "output_type": "display_data"
    }
   ],
   "source": [
    "_, _, _ = plt.hist(chiSquaredResultsNaive, bins=50, density=True, fc=(0.0, 0.0, 1.0, 0.2))\n",
    "_, _, _ = plt.hist(chiSquaredResultsMLE, bins=50, density=True, fc=(1.0, 0.0, 0.0, 0.2))\n",
    "plt.plot(chiSquaredX, chiSquared1, 'b--')\n",
    "plt.plot(chiSquaredX, chiSquared2, 'r--')\n",
    "plt.ylim([0.0, 1.5])\n",
    "plt.grid()\n",
    "plt.legend(['$\\chi^2(1)$', '$\\chi^2(2)$', 'Naive Density', 'MLE-based Density'])"
   ]
  },
  {
   "cell_type": "code",
   "execution_count": null,
   "metadata": {
    "collapsed": true
   },
   "outputs": [],
   "source": []
  }
 ],
 "metadata": {
  "kernelspec": {
   "display_name": "Python [Anaconda3]",
   "language": "python",
   "name": "Python [Anaconda3]"
  },
  "language_info": {
   "codemirror_mode": {
    "name": "ipython",
    "version": 3
   },
   "file_extension": ".py",
   "mimetype": "text/x-python",
   "name": "python",
   "nbconvert_exporter": "python",
   "pygments_lexer": "ipython3",
   "version": "3.5.4"
  }
 },
 "nbformat": 4,
 "nbformat_minor": 2
}
