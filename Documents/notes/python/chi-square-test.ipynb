{
 "cells": [
  {
   "cell_type": "markdown",
   "metadata": {},
   "source": [
    "# Chi-Squared Test\n",
    "\n",
    "Here, we generate samples of the chi-squared test statistic using i.i.d standard normal variates.\n",
    "\n",
    "Based on the demonstration in an online forum [[link](https://stats.stackexchange.com/questions/16921/how-to-understand-degrees-of-freedom)]\n"
   ]
  },
  {
   "cell_type": "code",
   "execution_count": 1,
   "metadata": {
    "collapsed": true
   },
   "outputs": [],
   "source": [
    "%matplotlib inline\n",
    "%load_ext cython\n",
    "\n",
    "# Import requisite modules\n",
    "import numpy as np\n",
    "import matplotlib.pyplot as plt\n",
    "from scipy.stats import norm, chi2\n"
   ]
  },
  {
   "cell_type": "code",
   "execution_count": 2,
   "metadata": {
    "collapsed": true
   },
   "outputs": [],
   "source": [
    "# Run parameters\n",
    "seed = 22\n",
    "numVariates = 20 # Number of i.i.d normal variates per repetition for the Chi-squared test\n",
    "numRepetitions = 10000 # Number of repetitions of bin counts for the Chi-squared test\n",
    "quantiles = [0.0, 0.25, 0.5, 0.75, 1.0] # Quantiles for binning the simulated data"
   ]
  },
  {
   "cell_type": "code",
   "execution_count": 3,
   "metadata": {
    "collapsed": true
   },
   "outputs": [],
   "source": [
    "# Simulations\n",
    "np.random.seed(seed) # Make simulation repeatable with seed parameter\n",
    "data = np.random.normal(size=(numRepetitions, numVariates)) # Generate numRepetitions x numVariates i.i.d standard normals\n"
   ]
  },
  {
   "cell_type": "code",
   "execution_count": 4,
   "metadata": {
    "collapsed": true
   },
   "outputs": [],
   "source": [
    "# Intermediate quantities\n",
    "bins = [norm.ppf(b) for b in quantiles]\n"
   ]
  },
  {
   "cell_type": "code",
   "execution_count": 5,
   "metadata": {
    "collapsed": true
   },
   "outputs": [],
   "source": [
    "#%%cython -a\n",
    "#import numpy as np\n",
    "\n",
    "# This function returns an array, with each entry being the chi-squared statistic computed for the \n",
    "def ComputeChiSquaredStatisicsNaive(data, bins):\n",
    "    numRepetitions = np.shape(data)[0]\n",
    "    numVariates = np.shape(data)[1]\n",
    "    \n",
    "    means = np.mean(data, axis=1) # For each repetition, determine the arithmetic mean of the variates\n",
    "    stdvs = np.std(data, axis=1)  # For each repetition, determine the standard deviation of the variates\n",
    "    \n",
    "    # For each repetition, determine the expected count in each bin, according to the computed means and stdvs\n",
    "    expected = np.diff(np.array([norm.cdf(b, loc=means, scale=stdvs) for b in bins]), axis=0).T * numVariates\n",
    "\n",
    "    # For each repetition, determine the observed count in each bin from the simulation data\n",
    "    observed = np.array([np.histogram(data[i], bins=bins)[0] for i in range(numRepetitions)])\n",
    "    \n",
    "    # For each repetition, compute the chi-squared statistic\n",
    "    output = np.sum((observed - expected) ** 2 / expected, axis=1)\n",
    "    \n",
    "    return output\n",
    "            \n"
   ]
  },
  {
   "cell_type": "code",
   "execution_count": 6,
   "metadata": {
    "collapsed": true
   },
   "outputs": [],
   "source": [
    "# Results of the chi-squared test based on simulations\n",
    "chiSquaredResults = ComputeChiSquaredStatisics(data, bins)\n",
    "\n",
    "# Overlay plots with theoretical PDFs for X^2(1) and X^2(2) plots\n",
    "chiSquaredX = np.linspace(0.0, 20.0, 1000)\n",
    "chiSquared1 = chi2.pdf(chiSquaredX, 1)\n",
    "chiSquared2 = chi2.pdf(chiSquaredX, 2)"
   ]
  },
  {
   "cell_type": "code",
   "execution_count": 7,
   "metadata": {},
   "outputs": [
    {
     "data": {
      "text/plain": [
       "<matplotlib.legend.Legend at 0x1b42dfac320>"
      ]
     },
     "execution_count": 7,
     "metadata": {},
     "output_type": "execute_result"
    },
    {
     "data": {
      "image/png": "[encoded data removed]",
      "text/plain": [
       "<Figure size 432x288 with 1 Axes>"
      ]
     },
     "metadata": {},
     "output_type": "display_data"
    }
   ],
   "source": [
    "_, _, _ = plt.hist(chiSquaredResults, bins=50, density=True)\n",
    "plt.plot(chiSquaredX, chiSquared1, 'b--')\n",
    "plt.plot(chiSquaredX, chiSquared2, 'r--')\n",
    "plt.ylim([0.0, 0.6])\n",
    "plt.grid()\n",
    "plt.legend(['$\\chi^2(1)$', '$\\chi^2(2)$', 'Density Histogram'])"
   ]
  },
  {
   "cell_type": "markdown",
   "metadata": {},
   "source": [
    "## Likelihood function for counts\n",
    "\n",
    "The distribution of interest is the **normal** distribution:\n",
    "$$X = \\mathcal{N}(z|\\mu, \\sigma)$$\n",
    "\n",
    "In our case, we have the four quartile intervals for the standard normal, $I_1=(-\\infty, -0.67]$, $I_2=(-0.67, 0]$, $I_3=(0, +0.67]$ and $I_4=(+0.67, +\\infty)$. With $\n",
    "\\theta=[\\mu,\\sigma]$, the probabilities in each case are $q_1(\\theta) = \\Phi\\left( \\dfrac{-0.67-\\mu}{\\sigma} \\right)$, $q_2(\\theta)=\\Phi\\left( \\dfrac{0-\\mu}{\\sigma} \\right)-\\Phi\\left( \\dfrac{-0.67-\\mu}{\\sigma} \\right)$, $q_3(\\theta)=\\Phi\\left(\\dfrac{+0.67-\\mu}{\\sigma} \\right)-\\Phi\\left(\\dfrac{0.0-\\mu}{\\sigma} \\right)$ and $q_4(\\theta)=1.0 - \\Phi\\left( \\dfrac{+0.67-\\mu}{\\sigma} \\right)$.\n",
    "\n",
    "A single sample from $X$ falling into one of the four interval bins is a **categorical** random variable with probability $q_j$ for the $j^{th}$ category, $j \\in 1,2,3,4$.\n",
    "\n",
    "The distribution for $N$ samples is the distribution of a **sum** of $N$ i.i.d categorical variables. This is a **multinomial** distribution with parameters $N$ and $q_j, j \\in 1,\\ldots,4$. The likelihood function is then:\n",
    "\n",
    "$$L(\\mu, \\sigma) = p\\left([c_1,c_2,c_3,c_4]|N,\\mu,\\sigma\\right)=\\dfrac{n!}{c_1!c_2!c_3!c_4!} \\prod_{j=1}^4 q_j(\\mu, \\sigma)^{x_j}$$\n",
    "\n",
    "For convenience, we write the log-likelihood as:\n",
    "$$f(\\mu,\\sigma) = \\ln L(\\mu, \\sigma)=\\text{constant} + \\sum_{j=1}^4 c_j \\ln q_j(\\mu, \\sigma)$$\n",
    "\n",
    "The maximum likelihood, or **MLE**, parameters are given by:\n",
    "$$(\\hat{$$\n",
    "\n",
    "The probability of a single sample from $X$ occurring in an interval $I$ is a Bernoulli random variable with parameter, say, $q$. Here, $q$ is the probability of the indicator function of $I$ under $X$, i.e., $q = \\mathbb{P}_X(\\mathbb{1}_I)$.\n",
    "\n",
    "The probability distribution of the counts in the interval $I$ for $N$ samples of $X$ follows the distribution of the sum if $N$ Bernoulli variables of paramter $q$. This is a binomial distribution with parameters $N$ and $q$.\n",
    "\n",
    "\n",
    "The likelihood function for an observation of a quadruple of counts is the product of three independent binomial likelihood functions: the fourth is inferred from the sum constraint, i.e., all counts must sum to $N$. So, we have for the likelihood function:\n",
    "\n",
    "$$L \\equiv L([c_1, c_2, c_3, N-(c_1+c_2+c_3)]; \\mu, \\sigma, N) = BINOMIAL(c_1|q,N) \\times BINOMIAL(c_2|q,N) \\times BINOMIAL(c_3|q,N)= f_1 \\times f_2 \\times f_3$$\n",
    "\n",
    "Here, \n",
    "$$f = BINOMIAL(k|q,N) = {n \\choose k} q^k (1-q)^{n-k}$$\n",
    "\n",
    "We prefer working with the log-likelihood for convenience:\n",
    "$$\\ln f = \\ln ^nC_k + k\\ln q + (n-k)\\ln(1-q) $$\n",
    "\n",
    "It follows that:\n",
    "$$\\ln L(\\theta) = \\sum_{j=1}^3 \\left[\\ln {N \\choose c_j} + c_j \\ln q_j(\\theta) + (N-c_j)\\ln(1-q_j(\\theta)) \\right]$$\n",
    "This function may be maximized to obtain the MLE parameters, $\\hat{\\theta} = [\\hat{\\mu}, \\hat{\\sigma}] = \\arg\\max_{\\theta} \\ln L(\\theta)$.\n"
   ]
  }
 ],
 "metadata": {
  "kernelspec": {
   "display_name": "Python [Anaconda3]",
   "language": "python",
   "name": "Python [Anaconda3]"
  },
  "language_info": {
   "codemirror_mode": {
    "name": "ipython",
    "version": 3
   },
   "file_extension": ".py",
   "mimetype": "text/x-python",
   "name": "python",
   "nbconvert_exporter": "python",
   "pygments_lexer": "ipython3",
   "version": "3.5.4"
  }
 },
 "nbformat": 4,
 "nbformat_minor": 2
}
