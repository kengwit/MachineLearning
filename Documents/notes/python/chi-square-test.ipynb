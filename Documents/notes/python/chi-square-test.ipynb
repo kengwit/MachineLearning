{
 "cells": [
  {
   "cell_type": "markdown",
   "metadata": {},
   "source": [
    "# Chi-Squared Test\n",
    "\n",
    "Here, we generate samples of the chi-squared test statistic using i.i.d standard normal variates.\n"
   ]
  },
  {
   "cell_type": "code",
   "execution_count": 1,
   "metadata": {},
   "outputs": [],
   "source": [
    "%matplotlib inline\n",
    "%load_ext cython\n",
    "\n",
    "# Import requisite modules\n",
    "import numpy as np\n",
    "import matplotlib.pyplot as plt\n",
    "from scipy.stats import norm\n"
   ]
  },
  {
   "cell_type": "code",
   "execution_count": 2,
   "metadata": {
    "collapsed": true
   },
   "outputs": [],
   "source": [
    "# Run parameters\n",
    "seed = 22\n",
    "numVariates = 20 # Number of i.i.d normal variates per repetition for the Chi-squared test\n",
    "numRepetitions = 10000 # Number of repetitions of bin counts for the Chi-squared test\n",
    "quantiles = [0.0, 0.25, 0.5, 0.75, 1.0] # Quantiles for binning the simulated data"
   ]
  },
  {
   "cell_type": "code",
   "execution_count": 3,
   "metadata": {
    "collapsed": true
   },
   "outputs": [],
   "source": [
    "# Simulations\n",
    "np.random.seed(seed) # Make simulation repeatable with seed parameter\n",
    "data = np.random.normal(size=(numRepetitions, numVariates)) # Generate numRepetitions x numVariates i.i.d standard normals\n"
   ]
  },
  {
   "cell_type": "code",
   "execution_count": 4,
   "metadata": {
    "collapsed": true
   },
   "outputs": [],
   "source": [
    "# Intermediate quantities\n",
    "bins = [norm.ppf(b) for b in quantiles]\n"
   ]
  },
  {
   "cell_type": "code",
   "execution_count": 5,
   "metadata": {},
   "outputs": [],
   "source": [
    "#%%cython -a\n",
    "#import numpy as np\n",
    "\n",
    "def ComputeChiSquaredStatisics(data, bins):\n",
    "    numRepetitions = np.shape(data)[0]\n",
    "    numVariates = np.shape(data)[1]\n",
    "    \n",
    "    means = np.mean(data, axis=1)\n",
    "    stdvs = np.std(data, axis=1)\n",
    "    \n",
    "    expected = np.diff(np.array([norm.cdf(b, loc=means, scale=stdvs) for b in bins]), axis=0).T\n",
    "    observed = np.array([np.histogram(data[i], bins=bins)[0] for i in range(numRepetitions)])\n",
    "    output = np.sum((observed - expected) ** 2 / expected, axis=1)\n",
    "    \n",
    "    return output\n",
    "        \n",
    "            \n"
   ]
  },
  {
   "cell_type": "code",
   "execution_count": 6,
   "metadata": {},
   "outputs": [],
   "source": [
    "x = ComputeChiSquaredStatisics(data, bins)\n"
   ]
  },
  {
   "cell_type": "code",
   "execution_count": 8,
   "metadata": {},
   "outputs": [
    {
     "data": {
      "text/plain": [
       "(array([  1.30900000e+03,   1.57300000e+03,   1.40000000e+03,\n",
       "          1.08500000e+03,   9.02000000e+02,   7.59000000e+02,\n",
       "          5.46000000e+02,   4.70000000e+02,   3.75000000e+02,\n",
       "          3.15000000e+02,   2.33000000e+02,   2.45000000e+02,\n",
       "          1.66000000e+02,   1.33000000e+02,   1.02000000e+02,\n",
       "          6.50000000e+01,   6.10000000e+01,   5.30000000e+01,\n",
       "          4.40000000e+01,   3.50000000e+01,   2.50000000e+01,\n",
       "          2.10000000e+01,   1.80000000e+01,   1.00000000e+01,\n",
       "          9.00000000e+00,   7.00000000e+00,   8.00000000e+00,\n",
       "          5.00000000e+00,   3.00000000e+00,   2.00000000e+00,\n",
       "          5.00000000e+00,   2.00000000e+00,   0.00000000e+00,\n",
       "          1.00000000e+00,   0.00000000e+00,   3.00000000e+00,\n",
       "          0.00000000e+00,   1.00000000e+00,   3.00000000e+00,\n",
       "          1.00000000e+00,   0.00000000e+00,   0.00000000e+00,\n",
       "          2.00000000e+00,   1.00000000e+00,   0.00000000e+00,\n",
       "          0.00000000e+00,   0.00000000e+00,   0.00000000e+00,\n",
       "          0.00000000e+00,   2.00000000e+00]),\n",
       " array([ 361.02106444,  367.94987336,  374.87868228,  381.8074912 ,\n",
       "         388.73630012,  395.66510904,  402.59391795,  409.52272687,\n",
       "         416.45153579,  423.38034471,  430.30915363,  437.23796255,\n",
       "         444.16677147,  451.09558039,  458.02438931,  464.95319823,\n",
       "         471.88200715,  478.81081607,  485.73962499,  492.66843391,\n",
       "         499.59724283,  506.52605175,  513.45486066,  520.38366958,\n",
       "         527.3124785 ,  534.24128742,  541.17009634,  548.09890526,\n",
       "         555.02771418,  561.9565231 ,  568.88533202,  575.81414094,\n",
       "         582.74294986,  589.67175878,  596.6005677 ,  603.52937662,\n",
       "         610.45818554,  617.38699446,  624.31580337,  631.24461229,\n",
       "         638.17342121,  645.10223013,  652.03103905,  658.95984797,\n",
       "         665.88865689,  672.81746581,  679.74627473,  686.67508365,\n",
       "         693.60389257,  700.53270149,  707.46151041]),\n",
       " <a list of 50 Patch objects>)"
      ]
     },
     "execution_count": 8,
     "metadata": {},
     "output_type": "execute_result"
    },
    {
     "data": {
      "image/png": "[encoded data removed]",
      "text/plain": [
       "<matplotlib.figure.Figure at 0x2b7d425b978>"
      ]
     },
     "metadata": {},
     "output_type": "display_data"
    }
   ],
   "source": [
    "plt.hist(x, bins=50)"
   ]
  },
  {
   "cell_type": "code",
   "execution_count": null,
   "metadata": {
    "collapsed": true
   },
   "outputs": [],
   "source": []
  }
 ],
 "metadata": {
  "kernelspec": {
   "display_name": "Python [Anaconda3]",
   "language": "python",
   "name": "Python [Anaconda3]"
  },
  "language_info": {
   "codemirror_mode": {
    "name": "ipython",
    "version": 3
   },
   "file_extension": ".py",
   "mimetype": "text/x-python",
   "name": "python",
   "nbconvert_exporter": "python",
   "pygments_lexer": "ipython3",
   "version": "3.5.4"
  }
 },
 "nbformat": 4,
 "nbformat_minor": 2
}
