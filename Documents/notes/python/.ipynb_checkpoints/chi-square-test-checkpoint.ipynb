{
 "cells": [
  {
   "cell_type": "markdown",
   "metadata": {},
   "source": [
    "# Chi-Squared Test\n",
    "\n",
    "Here, we generate samples of the chi-squared test statistic using i.i.d standard normal variates.\n"
   ]
  },
  {
   "cell_type": "code",
   "execution_count": 1,
   "metadata": {},
   "outputs": [],
   "source": [
    "%matplotlib inline\n",
    "%load_ext cython\n",
    "\n",
    "# Import requisite modules\n",
    "import numpy as np\n",
    "import matplotlib.pyplot as plt\n",
    "from scipy.stats import norm\n"
   ]
  },
  {
   "cell_type": "code",
   "execution_count": 2,
   "metadata": {
    "collapsed": true
   },
   "outputs": [],
   "source": [
    "# Run parameters\n",
    "seed = 22\n",
    "numVariates = 20 # Number of i.i.d normal variates per repetition for the Chi-squared test\n",
    "numRepetitions = 10000 # Number of repetitions of bin counts for the Chi-squared test\n",
    "quantiles = [0.0, 0.25, 0.5, 0.75, 1.0] # Quantiles for binning the simulated data"
   ]
  },
  {
   "cell_type": "code",
   "execution_count": 3,
   "metadata": {
    "collapsed": true
   },
   "outputs": [],
   "source": [
    "# Simulations\n",
    "np.random.seed(seed) # Make simulation repeatable with seed parameter\n",
    "data = np.random.normal(size=(numRepetitions, numVariates)) # Generate numRepetitions x numVariates i.i.d standard normals\n"
   ]
  },
  {
   "cell_type": "code",
   "execution_count": 4,
   "metadata": {
    "collapsed": true
   },
   "outputs": [],
   "source": [
    "# Intermediate quantities\n",
    "bins = [norm.ppf(b) for b in quantiles]\n"
   ]
  },
  {
   "cell_type": "code",
   "execution_count": 5,
   "metadata": {},
   "outputs": [],
   "source": [
    "#%%cython -a\n",
    "#import numpy as np\n",
    "\n",
    "def ComputeChiSquaredStatisics(data, bins):\n",
    "    numRepetitions = np.shape(data)[0]\n",
    "    numVariates = np.shape(data)[1]\n",
    "    \n",
    "    means = np.mean(data, axis=1)\n",
    "    stdvs = np.std(data, axis=1)\n",
    "    \n",
    "    expected = np.diff(np.array([norm.cdf(b, loc=means, scale=stdvs) for b in bins]), axis=0).T\n",
    "    observed = np.array([np.histogram(data[i], bins=bins)[0] for i in range(numRepetitions)])\n",
    "    output = np.sum((observed - expected) ** 2 / expected, axis=1)\n",
    "    \n",
    "    return output\n",
    "        \n",
    "            \n"
   ]
  },
  {
   "cell_type": "code",
   "execution_count": 6,
   "metadata": {},
   "outputs": [],
   "source": [
    "x = ComputeChiSquaredStatisics(data, bins)\n"
   ]
  },
  {
   "cell_type": "code",
   "execution_count": 10,
   "metadata": {},
   "outputs": [
    {
     "data": {
      "text/plain": [
       "3957142.8600030649"
      ]
     },
     "execution_count": 10,
     "metadata": {},
     "output_type": "execute_result"
    }
   ],
   "source": [
    "plt.hist(x, bins=20)"
   ]
  },
  {
   "cell_type": "code",
   "execution_count": null,
   "metadata": {
    "collapsed": true
   },
   "outputs": [],
   "source": []
  }
 ],
 "metadata": {
  "kernelspec": {
   "display_name": "Python [Anaconda3]",
   "language": "python",
   "name": "Python [Anaconda3]"
  },
  "language_info": {
   "codemirror_mode": {
    "name": "ipython",
    "version": 3
   },
   "file_extension": ".py",
   "mimetype": "text/x-python",
   "name": "python",
   "nbconvert_exporter": "python",
   "pygments_lexer": "ipython3",
   "version": "3.5.4"
  }
 },
 "nbformat": 4,
 "nbformat_minor": 2
}
